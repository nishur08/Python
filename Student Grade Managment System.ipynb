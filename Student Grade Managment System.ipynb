{
 "cells": [
  {
   "cell_type": "code",
   "execution_count": 2,
   "id": "04d684a3-6d7f-45b2-b83d-7693422e85ec",
   "metadata": {},
   "outputs": [
    {
     "name": "stdin",
     "output_type": "stream",
     "text": [
      "Enter student name (or 'exit' to stop):  Nishu raj\n",
      "Enter student ID:  01\n",
      "Enter score for subject 1:  74\n",
      "Enter score for subject 2:  80\n",
      "Enter score for subject 3:  65\n",
      "Enter student name (or 'exit' to stop):  exit\n"
     ]
    },
    {
     "name": "stdout",
     "output_type": "stream",
     "text": [
      "\n",
      "Student Grade Report:\n",
      "ID         Name                 Total Score     Grade\n",
      "--------------------------------------------------\n",
      "01         Nishu raj            219             C    \n"
     ]
    }
   ],
   "source": [
    "# Function to calculate total score and grade\n",
    "def calculate_grade(scores):\n",
    "    total = sum(scores)  # Calculate total score\n",
    "    avg = total / len(scores)  # Average score\n",
    "\n",
    "    # Assign grade based on average score\n",
    "    if avg >= 90:\n",
    "        grade = 'A'\n",
    "    elif avg >= 80:\n",
    "        grade = 'B'\n",
    "    elif avg >= 70:\n",
    "        grade = 'C'\n",
    "    elif avg >= 60:\n",
    "        grade = 'D'\n",
    "    else:\n",
    "        grade = 'F'\n",
    "    \n",
    "    return total, grade\n",
    "\n",
    "# Function to display all students' details\n",
    "def display_students(students):\n",
    "    print(\"\\nStudent Grade Report:\")\n",
    "    print(f\"{'ID':<10} {'Name':<20} {'Total Score':<15} {'Grade':<5}\")\n",
    "    print(\"-\" * 50)\n",
    "    \n",
    "    for student in students:\n",
    "        print(f\"{student['ID']:<10} {student['Name']:<20} {student['Total Score']:<15} {student['Grade']:<5}\")\n",
    "\n",
    "# Main function to input and manage student data\n",
    "def main():\n",
    "    students = []  # List to store all student data\n",
    "    \n",
    "    while True:\n",
    "        name = input(\"Enter student name (or 'exit' to stop): \")\n",
    "        if name.lower() == 'exit':\n",
    "            break\n",
    "        \n",
    "        student_id = input(\"Enter student ID: \")\n",
    "        scores = []\n",
    "        \n",
    "        # Input scores for 3 subjects\n",
    "        for i in range(1, 4):\n",
    "            score = int(input(f\"Enter score for subject {i}: \"))\n",
    "            scores.append(score)\n",
    "        \n",
    "        # Calculate total score and grade\n",
    "        total, grade = calculate_grade(scores)\n",
    "        \n",
    "        # Store student details in a dictionary\n",
    "        student_data = {\n",
    "            'Name': name,\n",
    "            'ID': student_id,\n",
    "            'Scores': scores,\n",
    "            'Total Score': total,\n",
    "            'Grade': grade\n",
    "        }\n",
    "        \n",
    "        students.append(student_data)  # Add student data to the list\n",
    "    \n",
    "    # Display all student data\n",
    "    display_students(students)\n",
    "\n",
    "# Run the main function\n",
    "if __name__ == \"__main__\":\n",
    "    main()\n"
   ]
  },
  {
   "cell_type": "code",
   "execution_count": null,
   "id": "3cfacd9a-2d32-4796-a1d6-24ec4b4c2813",
   "metadata": {},
   "outputs": [],
   "source": []
  }
 ],
 "metadata": {
  "kernelspec": {
   "display_name": "Python 3 (ipykernel)",
   "language": "python",
   "name": "python3"
  },
  "language_info": {
   "codemirror_mode": {
    "name": "ipython",
    "version": 3
   },
   "file_extension": ".py",
   "mimetype": "text/x-python",
   "name": "python",
   "nbconvert_exporter": "python",
   "pygments_lexer": "ipython3",
   "version": "3.12.1"
  }
 },
 "nbformat": 4,
 "nbformat_minor": 5
}
